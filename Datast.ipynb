{
 "cells": [
  {
   "cell_type": "markdown",
   "metadata": {},
   "source": [
    "Q1. Write a code to reverse a string.\n",
    "Ans: To reverse a string in Python, you can use slicing. Here's a simple example:"
   ]
  },
  {
   "cell_type": "code",
   "execution_count": null,
   "metadata": {},
   "outputs": [],
   "source": [
    "def reverse_string(s):\n",
    "    return s[::-1]\n",
    "\n",
    "# Example usage\n",
    "input_string = \"Hello, World!\"\n",
    "reversed_string = reverse_string(input_string)\n",
    "print(reversed_string)  # Output: !dlroW ,olleH\n"
   ]
  },
  {
   "cell_type": "markdown",
   "metadata": {},
   "source": [
    "This function takes a string s and returns it reversed using the slicing method s[::-1]."
   ]
  },
  {
   "cell_type": "markdown",
   "metadata": {},
   "source": [
    "Q2. Write a code to count the number of vowels in a string.\n",
    "Ans: You can count the number of vowels in a string using a simple loop or a comprehension. Here's a concise example using a loop:"
   ]
  },
  {
   "cell_type": "code",
   "execution_count": null,
   "metadata": {},
   "outputs": [],
   "source": [
    "def count_vowels(s):\n",
    "    vowels = \"aeiouAEIOU\"\n",
    "    count = 0\n",
    "    for char in s:\n",
    "        if char in vowels:\n",
    "            count += 1\n",
    "    return count\n",
    "\n",
    "# Example usage\n",
    "input_string = \"Hello, World!\"\n",
    "vowel_count = count_vowels(input_string)\n",
    "print(vowel_count)  # Output: 3\n"
   ]
  },
  {
   "cell_type": "markdown",
   "metadata": {},
   "source": [
    "This function iterates through each character in the string and increments the count whenever it encounters a vowel."
   ]
  },
  {
   "cell_type": "markdown",
   "metadata": {},
   "source": [
    "Q3. Write a code to check if a given string is a palindrome or not.\n",
    "Ans: You can check if a given string is a palindrome by comparing the string to its reverse. Here’s a simple implementation:"
   ]
  },
  {
   "cell_type": "code",
   "execution_count": null,
   "metadata": {},
   "outputs": [],
   "source": [
    "def is_palindrome(s):\n",
    "    # Remove spaces and convert to lowercase for a fair comparison\n",
    "    cleaned_string = ''.join(s.split()).lower()\n",
    "    return cleaned_string == cleaned_string[::-1]\n",
    "\n",
    "# Example usage\n",
    "input_string = \"A man a plan a canal Panama\"\n",
    "result = is_palindrome(input_string)\n",
    "print(result)  # Output: True\n"
   ]
  },
  {
   "cell_type": "markdown",
   "metadata": {},
   "source": [
    "This function first removes spaces and converts the string to lowercase, then checks if it is equal to its reverse. If they are the same, the string is a palindrome."
   ]
  },
  {
   "cell_type": "markdown",
   "metadata": {},
   "source": [
    "Q4. Write a code to check if two given strings are anagrams of each other.\n",
    "Ans: To check if two given strings are anagrams of each other, you can sort the characters of both strings and compare them. Here’s a simple implementation:\n",
    "\n"
   ]
  },
  {
   "cell_type": "code",
   "execution_count": null,
   "metadata": {},
   "outputs": [],
   "source": [
    "def are_anagrams(str1, str2):\n",
    "    # Remove spaces and convert to lowercase\n",
    "    cleaned_str1 = ''.join(str1.split()).lower()\n",
    "    cleaned_str2 = ''.join(str2.split()).lower()\n",
    "    \n",
    "    # Sort the characters and compare\n",
    "    return sorted(cleaned_str1) == sorted(cleaned_str2)\n",
    "\n",
    "# Example usage\n",
    "string1 = \"Listen\"\n",
    "string2 = \"Silent\"\n",
    "result = are_anagrams(string1, string2)\n",
    "print(result)  # Output: True\n"
   ]
  },
  {
   "cell_type": "markdown",
   "metadata": {},
   "source": [
    "This function cleans up the strings by removing spaces and converting them to lowercase, then sorts the characters in each string and checks for equality. If they are the same, the strings are anagrams.\n",
    "\n",
    "\n",
    "\n"
   ]
  },
  {
   "cell_type": "markdown",
   "metadata": {},
   "source": [
    "Q5. Write a code to find all occurrences of a given substring within another string.\n",
    "Ans: You can find all occurrences of a substring within another string using a loop and the str.find() method. Here's a simple implementation:"
   ]
  },
  {
   "cell_type": "code",
   "execution_count": null,
   "metadata": {},
   "outputs": [],
   "source": [
    "def find_all_occurrences(string, substring):\n",
    "    occurrences = []\n",
    "    start = 0\n",
    "\n",
    "    while True:\n",
    "        start = string.find(substring, start)\n",
    "        if start == -1:  # No more occurrences found\n",
    "            break\n",
    "        occurrences.append(start)\n",
    "        start += 1  # Move to the next character for the next search\n",
    "\n",
    "    return occurrences\n",
    "\n",
    "# Example usage\n",
    "main_string = \"This is a test string. This is only a test.\"\n",
    "substring = \"test\"\n",
    "result = find_all_occurrences(main_string, substring)\n",
    "print(result)  # Output: [10, 32]\n"
   ]
  },
  {
   "cell_type": "markdown",
   "metadata": {},
   "source": [
    "This function iterates through the main string, using find() to locate each occurrence of the substring and storing the starting indices in a list. When no more occurrences are found, it breaks out of the loop."
   ]
  },
  {
   "cell_type": "markdown",
   "metadata": {},
   "source": [
    "Q6. Write a code to perform basic string compression using the counts of repeated characters.\n",
    "Ans: You can perform basic string compression by counting consecutive repeated characters. Here's a simple implementation:"
   ]
  },
  {
   "cell_type": "code",
   "execution_count": null,
   "metadata": {},
   "outputs": [],
   "source": [
    "def compress_string(s):\n",
    "    if not s:\n",
    "        return \"\"\n",
    "\n",
    "    compressed = []\n",
    "    count = 1\n",
    "\n",
    "    for i in range(1, len(s)):\n",
    "        if s[i] == s[i - 1]:\n",
    "            count += 1\n",
    "        else:\n",
    "            compressed.append(s[i - 1] + str(count))\n",
    "            count = 1  # Reset count for the new character\n",
    "\n",
    "    # Add the last character and its count\n",
    "    compressed.append(s[-1] + str(count))\n",
    "\n",
    "    return ''.join(compressed)\n",
    "\n",
    "# Example usage\n",
    "input_string = \"aaabbbcccaaa\"\n",
    "compressed_string = compress_string(input_string)\n",
    "print(compressed_string)  # Output: a3b3c3a3\n"
   ]
  },
  {
   "cell_type": "markdown",
   "metadata": {},
   "source": [
    "This function iterates through the string, counting consecutive characters and appending the character along with its count to a list. Finally, it joins the list into a compressed string.\n",
    "\n",
    "\n",
    "\n"
   ]
  },
  {
   "cell_type": "markdown",
   "metadata": {},
   "source": [
    "Q7. Write a code to determine if a string has all unique characters.\n",
    "Ans: You can determine if a string has all unique characters by using a set to track the characters you've encountered. Here's a simple implementation:"
   ]
  },
  {
   "cell_type": "code",
   "execution_count": null,
   "metadata": {},
   "outputs": [],
   "source": [
    "def has_all_unique_characters(s):\n",
    "    # Create a set to store seen characters\n",
    "    seen_characters = set()\n",
    "    \n",
    "    for char in s:\n",
    "        if char in seen_characters:\n",
    "            return False  # Duplicate character found\n",
    "        seen_characters.add(char)\n",
    "\n",
    "    return True  # All characters are unique\n",
    "\n",
    "# Example usage\n",
    "input_string = \"abcdefg\"\n",
    "result = has_all_unique_characters(input_string)\n",
    "print(result)  # Output: True\n",
    "\n",
    "input_string_with_duplicates = \"abcdeafg\"\n",
    "result_with_duplicates = has_all_unique_characters(input_string_with_duplicates)\n",
    "print(result_with_duplicates)  # Output: False\n"
   ]
  },
  {
   "cell_type": "markdown",
   "metadata": {},
   "source": [
    "This function iterates through each character in the string, checking if it has already been seen. If a duplicate is found, it returns False; otherwise, it returns True if all characters are unique."
   ]
  },
  {
   "cell_type": "markdown",
   "metadata": {},
   "source": [
    "Q8.Write a code to convert a given string to uppercase or lowercase.\n",
    "Ans: You can easily convert a string to uppercase or lowercase in Python using the built-in methods str.upper() and str.lower(). Here’s an example of how to do both:"
   ]
  },
  {
   "cell_type": "code",
   "execution_count": null,
   "metadata": {},
   "outputs": [],
   "source": [
    "def convert_case(s, to_upper=True):\n",
    "    if to_upper:\n",
    "        return s.upper()  # Convert to uppercase\n",
    "    else:\n",
    "        return s.lower()  # Convert to lowercase\n",
    "\n",
    "# Example usage\n",
    "input_string = \"Hello, World!\"\n",
    "\n",
    "uppercase_string = convert_case(input_string, to_upper=True)\n",
    "print(uppercase_string)  # Output: HELLO, WORLD!\n",
    "\n",
    "lowercase_string = convert_case(input_string, to_upper=False)\n",
    "print(lowercase_string)  # Output: hello, world!\n"
   ]
  },
  {
   "cell_type": "markdown",
   "metadata": {},
   "source": [
    "This function takes a string and a boolean argument to_upper to determine whether to convert the string to uppercase or lowercase."
   ]
  },
  {
   "cell_type": "markdown",
   "metadata": {},
   "source": [
    "Q9. Write a code to count the number of words in a string.\n",
    "Ans: You can count the number of words in a string by splitting the string into words and then counting the resulting list. Here's a simple implementation:"
   ]
  },
  {
   "cell_type": "code",
   "execution_count": null,
   "metadata": {},
   "outputs": [],
   "source": [
    "def count_words(s):\n",
    "    # Split the string into words based on whitespace\n",
    "    words = s.split()\n",
    "    return len(words)\n",
    "\n",
    "# Example usage\n",
    "input_string = \"Hello, how are you doing today?\"\n",
    "word_count = count_words(input_string)\n",
    "print(word_count)  # Output: 7\n"
   ]
  },
  {
   "cell_type": "markdown",
   "metadata": {},
   "source": [
    "This function uses the split() method, which splits the string at whitespace by default, and then it returns the length of the resulting list of words."
   ]
  },
  {
   "cell_type": "markdown",
   "metadata": {},
   "source": [
    "Q10. Write a code to concatenate two strings without using the + operator.\n",
    "Ans: You can concatenate two strings without using the + operator by using the str.join() method or the str.format() method. Here’s an example using both approaches:\n",
    "\n",
    "Using str.join()"
   ]
  },
  {
   "cell_type": "code",
   "execution_count": null,
   "metadata": {},
   "outputs": [],
   "source": [
    "def concatenate_strings(s1, s2):\n",
    "    return ''.join([s1, s2])\n",
    "\n",
    "# Example usage\n",
    "string1 = \"Hello\"\n",
    "string2 = \" World!\"\n",
    "result = concatenate_strings(string1, string2)\n",
    "print(result)  # Output: Hello World!\n"
   ]
  },
  {
   "cell_type": "markdown",
   "metadata": {},
   "source": [
    "Using str.format()"
   ]
  },
  {
   "cell_type": "code",
   "execution_count": null,
   "metadata": {},
   "outputs": [],
   "source": [
    "def concatenate_strings(s1, s2):\n",
    "    return \"{}{}\".format(s1, s2)\n",
    "\n",
    "# Example usage\n",
    "string1 = \"Hello\"\n",
    "string2 = \" World!\"\n",
    "result = concatenate_strings(string1, string2)\n",
    "print(result)  # Output: Hello World!\n"
   ]
  },
  {
   "cell_type": "markdown",
   "metadata": {},
   "source": [
    "Both methods effectively concatenate the two strings without using the + operator."
   ]
  },
  {
   "cell_type": "markdown",
   "metadata": {},
   "source": [
    "Q11.  Write a code to remove all occurrences of a specific element from a list.\n",
    "Ans: you can remove all occurrences of a specific element from a list using a list comprehension or the filter() function. Here’s an example using both methods:\n",
    "\n",
    "Using List Comprehension"
   ]
  },
  {
   "cell_type": "code",
   "execution_count": null,
   "metadata": {},
   "outputs": [],
   "source": [
    "def remove_element(lst, element):\n",
    "    return [x for x in lst if x != element]\n",
    "\n",
    "# Example usage\n",
    "my_list = [1, 2, 3, 4, 2, 5, 2]\n",
    "element_to_remove = 2\n",
    "result = remove_element(my_list, element_to_remove)\n",
    "print(result)  # Output: [1, 3, 4, 5]\n"
   ]
  },
  {
   "cell_type": "markdown",
   "metadata": {},
   "source": [
    "Using filter()"
   ]
  },
  {
   "cell_type": "code",
   "execution_count": null,
   "metadata": {},
   "outputs": [],
   "source": [
    "def remove_element(lst, element):\n",
    "    return list(filter(lambda x: x != element, lst))\n",
    "\n",
    "# Example usage\n",
    "my_list = [1, 2, 3, 4, 2, 5, 2]\n",
    "element_to_remove = 2\n",
    "result = remove_element(my_list, element_to_remove)\n",
    "print(result)  # Output: [1, 3, 4, 5]\n"
   ]
  },
  {
   "cell_type": "markdown",
   "metadata": {},
   "source": [
    "Both methods effectively remove all occurrences of the specified element from the list."
   ]
  },
  {
   "cell_type": "markdown",
   "metadata": {},
   "source": [
    "Q12. Implement a code to find the second largest number in a given list of integers.\n",
    "Ans: You can find the second largest number in a list of integers by first identifying the largest number and then finding the largest number that is less than that. Here’s one way to do it:"
   ]
  },
  {
   "cell_type": "code",
   "execution_count": null,
   "metadata": {},
   "outputs": [],
   "source": [
    "def second_largest(numbers):\n",
    "    if len(numbers) < 2:\n",
    "        return None  # Not enough elements to find the second largest\n",
    "\n",
    "    first = second = float('-inf')  # Initialize to negative infinity\n",
    "\n",
    "    for number in numbers:\n",
    "        if number > first:\n",
    "            second = first  # Update second before first\n",
    "            first = number\n",
    "        elif first > number > second:\n",
    "            second = number\n",
    "\n",
    "    return second if second != float('-inf') else None\n",
    "\n",
    "# Example usage\n",
    "my_list = [3, 1, 4, 4, 2, 5]\n",
    "result = second_largest(my_list)\n",
    "print(result)  # Output: 4\n"
   ]
  },
  {
   "cell_type": "markdown",
   "metadata": {},
   "source": [
    "This function iterates through the list and keeps track of the largest and second largest numbers. If there are not enough distinct numbers, it returns None."
   ]
  },
  {
   "cell_type": "markdown",
   "metadata": {},
   "source": [
    "Q13.  Create a code to count the occurrences of each element in a list and return a dictionary with elements as keys and their counts as values.\n",
    "Ans: You can count the occurrences of each element in a list using a dictionary. Here’s a simple implementation:"
   ]
  },
  {
   "cell_type": "code",
   "execution_count": null,
   "metadata": {},
   "outputs": [],
   "source": [
    "def count_occurrences(lst):\n",
    "    counts = {}\n",
    "    for element in lst:\n",
    "        if element in counts:\n",
    "            counts[element] += 1\n",
    "        else:\n",
    "            counts[element] = 1\n",
    "    return counts\n",
    "\n",
    "# Example usage\n",
    "my_list = [1, 2, 2, 3, 1, 4, 1]\n",
    "result = count_occurrences(my_list)\n",
    "print(result)  # Output: {1: 3, 2: 2, 3: 1, 4: 1}\n"
   ]
  },
  {
   "cell_type": "markdown",
   "metadata": {},
   "source": [
    "This function iterates through the list, checking if each element is already in the dictionary. If it is, it increments the count; otherwise, it adds the element with a count of 1. The final dictionary contains the elements as keys and their counts as values."
   ]
  },
  {
   "cell_type": "markdown",
   "metadata": {},
   "source": [
    "Q14. Write a code to reverse a list in-place without using any built-in reverse functions.\n",
    "Ans: You can reverse a list in-place by swapping elements from the beginning and the end of the list. Here's a simple implementation:"
   ]
  },
  {
   "cell_type": "code",
   "execution_count": null,
   "metadata": {},
   "outputs": [],
   "source": [
    "def reverse_list(lst):\n",
    "    left, right = 0, len(lst) - 1\n",
    "    \n",
    "    while left < right:\n",
    "        # Swap the elements\n",
    "        lst[left], lst[right] = lst[right], lst[left]\n",
    "        left += 1\n",
    "        right -= 1\n",
    "\n",
    "# Example usage\n",
    "my_list = [1, 2, 3, 4, 5]\n",
    "reverse_list(my_list)\n",
    "print(my_list)  # Output: [5, 4, 3, 2, 1]\n"
   ]
  },
  {
   "cell_type": "markdown",
   "metadata": {},
   "source": [
    "This function uses two pointers to swap elements from the start and end of the list, moving towards the center until they meet. This effectively reverses the list in-place without using any built-in reverse functions."
   ]
  },
  {
   "cell_type": "markdown",
   "metadata": {},
   "source": [
    "Q15.  Implement a code to find and remove duplicates from a list while preserving the original order of elements.\n",
    "Ans: You can find and remove duplicates from a list while preserving the original order by using a combination of a set and a list. Here's an implementation:"
   ]
  },
  {
   "cell_type": "code",
   "execution_count": null,
   "metadata": {},
   "outputs": [],
   "source": [
    "def remove_duplicates(lst):\n",
    "    seen = set()  # Set to track seen elements\n",
    "    result = []   # List to store the result\n",
    "\n",
    "    for element in lst:\n",
    "        if element not in seen:\n",
    "            seen.add(element)  # Add to seen\n",
    "            result.append(element)  # Keep the original order\n",
    "\n",
    "    return result\n",
    "\n",
    "# Example usage\n",
    "my_list = [1, 2, 3, 2, 4, 1, 5]\n",
    "result = remove_duplicates(my_list)\n",
    "print(result)  # Output: [1, 2, 3, 4, 5]\n"
   ]
  },
  {
   "cell_type": "markdown",
   "metadata": {},
   "source": [
    "This function iterates through the input list, adding each unique element to a set and to the result list. This ensures that duplicates are removed while maintaining the original order of the first occurrences."
   ]
  },
  {
   "cell_type": "markdown",
   "metadata": {},
   "source": [
    "Q16. Create a code to check if a given list is sorted (either in ascending or descending order) or not.\n",
    "Ans: You can check if a given list is sorted in either ascending or descending order by comparing each element to its neighbors. Here’s a simple implementation:"
   ]
  },
  {
   "cell_type": "code",
   "execution_count": null,
   "metadata": {},
   "outputs": [],
   "source": [
    "def is_sorted(lst):\n",
    "    if len(lst) < 2:\n",
    "        return True  # A list with 0 or 1 element is considered sorted\n",
    "\n",
    "    ascending = all(lst[i] <= lst[i + 1] for i in range(len(lst) - 1))\n",
    "    descending = all(lst[i] >= lst[i + 1] for i in range(len(lst) - 1))\n",
    "\n",
    "    return ascending or descending\n",
    "\n",
    "# Example usage\n",
    "sorted_asc = [1, 2, 3, 4, 5]\n",
    "sorted_desc = [5, 4, 3, 2, 1]\n",
    "unsorted = [1, 3, 2, 4]\n",
    "\n",
    "print(is_sorted(sorted_asc))  # Output: True\n",
    "print(is_sorted(sorted_desc))  # Output: True\n",
    "print(is_sorted(unsorted))     # Output: False\n"
   ]
  },
  {
   "cell_type": "markdown",
   "metadata": {},
   "source": [
    "This function checks if the list is sorted in ascending or descending order using generator expressions. It returns True if the list is sorted in either order, and False otherwise."
   ]
  },
  {
   "cell_type": "markdown",
   "metadata": {},
   "source": [
    "Q17. Write a code to merge two sorted lists into a single sorted list.\n",
    "Ans: You can merge two sorted lists into a single sorted list by using a two-pointer approach. Here’s a simple implementation:"
   ]
  },
  {
   "cell_type": "code",
   "execution_count": null,
   "metadata": {},
   "outputs": [],
   "source": [
    "def merge_sorted_lists(list1, list2):\n",
    "    merged_list = []\n",
    "    i, j = 0, 0\n",
    "\n",
    "    # Iterate through both lists and merge them\n",
    "    while i < len(list1) and j < len(list2):\n",
    "        if list1[i] < list2[j]:\n",
    "            merged_list.append(list1[i])\n",
    "            i += 1\n",
    "        else:\n",
    "            merged_list.append(list2[j])\n",
    "            j += 1\n",
    "\n",
    "    # Add remaining elements from list1 (if any)\n",
    "    while i < len(list1):\n",
    "        merged_list.append(list1[i])\n",
    "        i += 1\n",
    "\n",
    "    # Add remaining elements from list2 (if any)\n",
    "    while j < len(list2):\n",
    "        merged_list.append(list2[j])\n",
    "        j += 1\n",
    "\n",
    "    return merged_list\n",
    "\n",
    "# Example usage\n",
    "sorted_list1 = [1, 3, 5, 7]\n",
    "sorted_list2 = [2, 4, 6, 8]\n",
    "result = merge_sorted_lists(sorted_list1, sorted_list2)\n",
    "print(result)  # Output: [1, 2, 3, 4, 5, 6, 7, 8]\n"
   ]
  },
  {
   "cell_type": "markdown",
   "metadata": {},
   "source": [
    "This function uses two pointers to traverse both lists, adding the smaller element to the merged list until all elements from both lists have been processed. The final merged list is sorted"
   ]
  },
  {
   "cell_type": "markdown",
   "metadata": {},
   "source": [
    "Q18. Implement a code to find the intersection of two given lists.\n",
    "Ans: You can find the intersection of two lists by using a set to efficiently track common elements. Here’s a simple implementation:"
   ]
  },
  {
   "cell_type": "code",
   "execution_count": null,
   "metadata": {},
   "outputs": [],
   "source": [
    "def intersection(list1, list2):\n",
    "    # Convert one of the lists to a set for faster lookups\n",
    "    set1 = set(list1)\n",
    "    # Use a set comprehension to find common elements\n",
    "    return [item for item in list2 if item in set1]\n",
    "\n",
    "# Example usage\n",
    "list1 = [1, 2, 3, 4, 5]\n",
    "list2 = [4, 5, 6, 7, 8]\n",
    "result = intersection(list1, list2)\n",
    "print(result)  # Output: [4, 5]\n"
   ]
  },
  {
   "cell_type": "markdown",
   "metadata": {},
   "source": [
    "This function converts one of the lists to a set, which allows for O(1) average-time complexity for lookups. It then iterates through the second list and includes elements that are present in the set, resulting in a list of common elements.\n",
    "\n",
    "\n",
    "\n"
   ]
  },
  {
   "cell_type": "markdown",
   "metadata": {},
   "source": [
    "Q19.Create a code to find the union of two lists without duplicates.\n",
    "Ans: You can find the union of two lists without duplicates by using a set to automatically handle duplicate values. Here’s how you can do it:"
   ]
  },
  {
   "cell_type": "code",
   "execution_count": null,
   "metadata": {},
   "outputs": [],
   "source": [
    "def union(list1, list2):\n",
    "    # Use a set to combine the two lists and remove duplicates\n",
    "    return list(set(list1) | set(list2))\n",
    "\n",
    "# Example usage\n",
    "list1 = [1, 2, 3, 4]\n",
    "list2 = [3, 4, 5, 6]\n",
    "result = union(list1, list2)\n",
    "print(result)  # Output: [1, 2, 3, 4, 5, 6]\n"
   ]
  },
  {
   "cell_type": "markdown",
   "metadata": {},
   "source": [
    "In this code, we convert both lists to sets, use the union operator (|) to combine them, and then convert the result back to a list. This method ensures that all elements are unique.\n",
    "\n",
    "\n",
    "\n"
   ]
  },
  {
   "cell_type": "markdown",
   "metadata": {},
   "source": [
    "Q20. Write a code to shuffle a given list randomly without using any built-in shuffle functions.\n",
    "Ans: You can shuffle a list randomly using the Fisher-Yates (or Knuth) shuffle algorithm. Here's a simple implementation:"
   ]
  },
  {
   "cell_type": "code",
   "execution_count": null,
   "metadata": {},
   "outputs": [],
   "source": [
    "import random\n",
    "\n",
    "def shuffle_list(lst):\n",
    "    # Iterate over the list in reverse order\n",
    "    for i in range(len(lst) - 1, 0, -1):\n",
    "        # Generate a random index from 0 to i\n",
    "        j = random.randint(0, i)\n",
    "        # Swap elements at indices i and j\n",
    "        lst[i], lst[j] = lst[j], lst[i]\n",
    "\n",
    "# Example usage\n",
    "my_list = [1, 2, 3, 4, 5]\n",
    "shuffle_list(my_list)\n",
    "print(my_list)  # Output: The list will be shuffled randomly\n"
   ]
  },
  {
   "cell_type": "markdown",
   "metadata": {},
   "source": [
    "This function iterates through the list from the last element to the second element, selecting a random index for each element and swapping them. This effectively shuffles the list in place"
   ]
  },
  {
   "cell_type": "markdown",
   "metadata": {},
   "source": [
    "Q21. Write a code that takes two tuples as input and returns a new tuple containing elements that are common to both input tuples.\n",
    "Ans: You can find the common elements between two tuples by converting them to sets and using the intersection method. Here’s a simple implementation:"
   ]
  },
  {
   "cell_type": "code",
   "execution_count": null,
   "metadata": {},
   "outputs": [],
   "source": [
    "def common_elements(tuple1, tuple2):\n",
    "    # Convert tuples to sets and find the intersection\n",
    "    common_set = set(tuple1).intersection(set(tuple2))\n",
    "    # Return the result as a new tuple\n",
    "    return tuple(common_set)\n",
    "\n",
    "# Example usage\n",
    "tuple1 = (1, 2, 3, 4)\n",
    "tuple2 = (3, 4, 5, 6)\n",
    "result = common_elements(tuple1, tuple2)\n",
    "print(result)  # Output: (3, 4)\n"
   ]
  },
  {
   "cell_type": "markdown",
   "metadata": {},
   "source": [
    "This function converts both tuples to sets, finds the common elements using the intersection() method, and returns the result as a new tuple. Note that the order of elements in the resulting tuple may vary since sets do not maintain order.\n",
    "\n",
    "\n",
    "\n"
   ]
  },
  {
   "cell_type": "markdown",
   "metadata": {},
   "source": [
    "Q22.Create a code that prompts the user to enter two sets of integers separated by commas. Then, print the intersection of these two sets.\n",
    "Ans: You can prompt the user to enter two sets of integers, split the input to create sets, and then compute and print the intersection. Here's a simple implementation:"
   ]
  },
  {
   "cell_type": "code",
   "execution_count": null,
   "metadata": {},
   "outputs": [],
   "source": [
    "def get_set_input(prompt):\n",
    "    user_input = input(prompt)\n",
    "    # Convert input string to a set of integers\n",
    "    return set(int(num) for num in user_input.split(','))\n",
    "\n",
    "# Prompt user for two sets\n",
    "set1 = get_set_input(\"Enter the first set of integers (separated by commas): \")\n",
    "set2 = get_set_input(\"Enter the second set of integers (separated by commas): \")\n",
    "\n",
    "# Calculate and print the intersection\n",
    "intersection = set1.intersection(set2)\n",
    "print(\"The intersection of the two sets is:\", intersection)\n"
   ]
  },
  {
   "cell_type": "markdown",
   "metadata": {},
   "source": [
    "How It Works:\n",
    "=The get_set_input function prompts the user for input, splits the string by commas, and converts each element to an integer to create a set.\n",
    "=The program then computes the intersection of the two sets using the intersection() method.\n",
    "=Finally, it prints the result.\n",
    "You can run this code in a Python environment, and it will prompt you for the sets.\n",
    "\n",
    "\n",
    "\n"
   ]
  },
  {
   "cell_type": "markdown",
   "metadata": {},
   "source": [
    "Q23.Write a code to concatenate two tuples. The function should take two tuples as input and return a new tuple containing elements from both input tuples.\n",
    "Ans: You can concatenate two tuples by simply using the + operator. Here's a function that takes two tuples as input and returns a new tuple containing elements from both:"
   ]
  },
  {
   "cell_type": "code",
   "execution_count": null,
   "metadata": {},
   "outputs": [],
   "source": [
    "def concatenate_tuples(tuple1, tuple2):\n",
    "    return tuple1 + tuple2\n",
    "\n",
    "# Example usage\n",
    "tuple1 = (1, 2, 3)\n",
    "tuple2 = (4, 5, 6)\n",
    "result = concatenate_tuples(tuple1, tuple2)\n",
    "print(result)  # Output: (1, 2, 3, 4, 5, 6)\n"
   ]
  },
  {
   "cell_type": "markdown",
   "metadata": {},
   "source": [
    "This function returns a new tuple that consists of all elements from both input tuples. You can call this function with any two tuples to get their concatenation."
   ]
  },
  {
   "cell_type": "markdown",
   "metadata": {},
   "source": [
    "Q24.Develop a code that prompts the user to input two sets of strings. Then, print the elements that are present in the first set but not in the second set.\n",
    "Ans: You can prompt the user to input two sets of strings, convert those inputs into sets, and then find and print the elements that are present in the first set but not in the second set. Here’s how you can do it:"
   ]
  },
  {
   "cell_type": "code",
   "execution_count": null,
   "metadata": {},
   "outputs": [],
   "source": [
    "def get_set_input(prompt):\n",
    "    user_input = input(prompt)\n",
    "    # Convert input string to a set of strings\n",
    "    return set(user_input.split(','))\n",
    "\n",
    "# Prompt user for two sets\n",
    "set1 = get_set_input(\"Enter the first set of strings (separated by commas): \")\n",
    "set2 = get_set_input(\"Enter the second set of strings (separated by commas): \")\n",
    "\n",
    "# Calculate and print the difference\n",
    "difference = set1 - set2\n",
    "print(\"Elements in the first set but not in the second set:\", difference)\n"
   ]
  },
  {
   "cell_type": "markdown",
   "metadata": {},
   "source": [
    "How It Works:\n",
    "=The get_set_input function prompts the user for input, splits the input by commas, and creates a set of strings.\n",
    "=The program calculates the difference between the two sets using the - operator, which gives the elements present in the first set but not in the second.\n",
    "=Finally, it prints the result.\n",
    "You can run this code in a Python environment, and it will prompt you to enter the sets.\n",
    "\n",
    "\n",
    "\n"
   ]
  },
  {
   "cell_type": "markdown",
   "metadata": {},
   "source": [
    "Q25.Create a code that takes a tuple and two integers as input. The function should return a new tuple containing elements from the original tuple within the specified range of indices.\n",
    "Ans: You can create a function that takes a tuple and two integers representing the start and end indices, and then returns a new tuple containing the elements within that range. Here's how you can implement this:"
   ]
  },
  {
   "cell_type": "code",
   "execution_count": null,
   "metadata": {},
   "outputs": [],
   "source": [
    "def slice_tuple(original_tuple, start, end):\n",
    "    # Return a new tuple containing elements from start to end (exclusive)\n",
    "    return original_tuple[start:end]\n",
    "\n",
    "# Example usage\n",
    "my_tuple = (10, 20, 30, 40, 50, 60)\n",
    "start_index = 1\n",
    "end_index = 4\n",
    "result = slice_tuple(my_tuple, start_index, end_index)\n",
    "print(result)  # Output: (20, 30, 40)\n"
   ]
  },
  {
   "cell_type": "markdown",
   "metadata": {},
   "source": [
    "How It Works:\n",
    "=The slice_tuple function takes the original tuple and the specified start and end indices.\n",
    "=It uses tuple slicing to return a new tuple containing the elements from the specified range.\n",
    "=In the example usage, the function is called with a tuple and indices, and it prints the resulting tuple.\n",
    "You can test this function with different tuples and index ranges as needed!"
   ]
  },
  {
   "cell_type": "markdown",
   "metadata": {},
   "source": [
    "Q26. Write a code that prompts the user to input two sets of characters. Then, print the union of these two sets.\n",
    "Ans: You can prompt the user to input two sets of characters, convert those inputs into sets, and then compute and print the union. Here's how you can do it:"
   ]
  },
  {
   "cell_type": "code",
   "execution_count": null,
   "metadata": {},
   "outputs": [],
   "source": [
    "def get_set_input(prompt):\n",
    "    user_input = input(prompt)\n",
    "    # Convert input string to a set of characters\n",
    "    return set(user_input)\n",
    "\n",
    "# Prompt user for two sets\n",
    "set1 = get_set_input(\"Enter the first set of characters: \")\n",
    "set2 = get_set_input(\"Enter the second set of characters: \")\n",
    "\n",
    "# Calculate and print the union\n",
    "union_set = set1.union(set2)\n",
    "print(\"The union of the two sets is:\", union_set)\n"
   ]
  },
  {
   "cell_type": "markdown",
   "metadata": {},
   "source": [
    "How It Works:\n",
    "=The get_set_input function prompts the user for input and creates a set of characters from the input string.\n",
    "=The program calculates the union of the two sets using the union() method.\n",
    "=Finally, it prints the resulting union set.\n",
    "You can run this code in a Python environment, and it will prompt you for the sets of characters.\n",
    "\n",
    "\n",
    "\n"
   ]
  },
  {
   "cell_type": "markdown",
   "metadata": {},
   "source": [
    "Q27.Develop a code that takes a tuple of integers as input. The function should return the maximum and minimum values from the tuple using tuple unpacking.\n",
    "Ans:You can create a function that takes a tuple of integers and uses tuple unpacking to return the maximum and minimum values. Here's how you can implement this:"
   ]
  },
  {
   "cell_type": "code",
   "execution_count": null,
   "metadata": {},
   "outputs": [],
   "source": [
    "def min_max_tuple(input_tuple):\n",
    "    # Calculate the minimum and maximum values\n",
    "    min_value = min(input_tuple)\n",
    "    max_value = max(input_tuple)\n",
    "    # Return them as a tuple\n",
    "    return min_value, max_value\n",
    "\n",
    "# Example usage\n",
    "my_tuple = (3, 1, 4, 1, 5, 9, 2, 6)\n",
    "min_value, max_value = min_max_tuple(my_tuple)\n",
    "print(\"Minimum value:\", min_value)  # Output: Minimum value: 1\n",
    "print(\"Maximum value:\", max_value)  # Output: Maximum value: 9\n"
   ]
  },
  {
   "cell_type": "markdown",
   "metadata": {},
   "source": [
    "How It Works:\n",
    "The min_max_tuple function calculates the minimum and maximum values of the input tuple using the built-in min() and max() functions.\n",
    "It returns these values as a new tuple.\n",
    "In the example usage, the returned values are unpacked into min_value and max_value, which are then printed.\n",
    "You can test this function with different tuples of integers!"
   ]
  },
  {
   "cell_type": "markdown",
   "metadata": {},
   "source": [
    "Q28. Create a code that defines two sets of integers. Then, print the union, intersection, and difference of these two sets.\n",
    "Ans: You can define two sets of integers and then use set operations to compute and print their union, intersection, and difference. Here’s a simple implementation:"
   ]
  },
  {
   "cell_type": "code",
   "execution_count": null,
   "metadata": {},
   "outputs": [],
   "source": [
    "# Define two sets of integers\n",
    "set1 = {1, 2, 3, 4, 5}\n",
    "set2 = {4, 5, 6, 7, 8}\n",
    "\n",
    "# Calculate union\n",
    "union_set = set1.union(set2)\n",
    "\n",
    "# Calculate intersection\n",
    "intersection_set = set1.intersection(set2)\n",
    "\n",
    "# Calculate difference (set1 - set2)\n",
    "difference_set = set1.difference(set2)\n",
    "\n",
    "# Print the results\n",
    "print(\"Set 1:\", set1)\n",
    "print(\"Set 2:\", set2)\n",
    "print(\"Union of the two sets:\", union_set)            # Output: {1, 2, 3, 4, 5, 6, 7, 8}\n",
    "print(\"Intersection of the two sets:\", intersection_set)  # Output: {4, 5}\n",
    "print(\"Difference (Set 1 - Set 2):\", difference_set)  # Output: {1, 2, 3}\n"
   ]
  },
  {
   "cell_type": "markdown",
   "metadata": {},
   "source": [
    "How It Works:\n",
    "Two sets, set1 and set2, are defined.\n",
    "The union of the sets is calculated using the union() method.\n",
    "The intersection is found using the intersection() method.\n",
    "The difference (elements in set1 but not in set2) is calculated using the difference() method.\n",
    "Finally, the results are printed to the console.\n",
    "You can modify the sets as needed to test with different values!"
   ]
  },
  {
   "cell_type": "markdown",
   "metadata": {},
   "source": [
    "Q29. Write a code that takes a tuple and an element as input. The function should return the count of occurrences of the given element in the tuple.\n",
    "Ans: You can create a function that takes a tuple and an element as input, and then returns the count of occurrences of that element in the tuple. Here’s how you can implement it:"
   ]
  },
  {
   "cell_type": "code",
   "execution_count": null,
   "metadata": {},
   "outputs": [],
   "source": [
    "def count_occurrences(input_tuple, element):\n",
    "    return input_tuple.count(element)\n",
    "\n",
    "# Example usage\n",
    "my_tuple = (1, 2, 3, 4, 2, 5, 2)\n",
    "element_to_count = 2\n",
    "count = count_occurrences(my_tuple, element_to_count)\n",
    "print(f\"The element {element_to_count} occurs {count} times in the tuple.\")  # Output: The element 2 occurs 3 times in the tuple.\n"
   ]
  },
  {
   "cell_type": "markdown",
   "metadata": {},
   "source": [
    "How It Works:\n",
    "The count_occurrences function uses the count() method of the tuple to count how many times the specified element appears.\n",
    "In the example usage, you can see how to call the function and print the result.\n",
    "You can test this function with different tuples and elements!"
   ]
  },
  {
   "cell_type": "markdown",
   "metadata": {},
   "source": [
    "Q30.Develop a code that prompts the user to input two sets of strings. Then, print the symmetric difference of these two sets.\n",
    "Ans:You can prompt the user to input two sets of strings, convert those inputs into sets, and then compute and print the symmetric difference. Here’s how you can implement this:"
   ]
  },
  {
   "cell_type": "code",
   "execution_count": null,
   "metadata": {},
   "outputs": [],
   "source": [
    "def get_set_input(prompt):\n",
    "    user_input = input(prompt)\n",
    "    # Convert input string to a set of strings\n",
    "    return set(user_input.split(','))\n",
    "\n",
    "# Prompt user for two sets\n",
    "set1 = get_set_input(\"Enter the first set of strings (separated by commas): \")\n",
    "set2 = get_set_input(\"Enter the second set of strings (separated by commas): \")\n",
    "\n",
    "# Calculate and print the symmetric difference\n",
    "symmetric_difference = set1.symmetric_difference(set2)\n",
    "print(\"The symmetric difference of the two sets is:\", symmetric_difference)\n"
   ]
  },
  {
   "cell_type": "markdown",
   "metadata": {},
   "source": [
    "How It Works:\n",
    "The get_set_input function prompts the user for input and creates a set of strings from the input string.\n",
    "The program calculates the symmetric difference of the two sets using the symmetric_difference() method.\n",
    "Finally, it prints the resulting symmetric difference.\n",
    "You can run this code in a Python environment, and it will prompt you for the sets of strings."
   ]
  },
  {
   "cell_type": "markdown",
   "metadata": {},
   "source": [
    "Q31.Write a code that takes a list of words as input and returns a dictionary where the keys are unique words and the values are the frequencies of those words in the input list.\n",
    "Ans:You can create a function that takes a list of words and returns a dictionary with unique words as keys and their frequencies as values. Here's how you can implement it:"
   ]
  },
  {
   "cell_type": "code",
   "execution_count": null,
   "metadata": {},
   "outputs": [],
   "source": [
    "def word_frequencies(words):\n",
    "    frequency_dict = {}\n",
    "    for word in words:\n",
    "        if word in frequency_dict:\n",
    "            frequency_dict[word] += 1\n",
    "        else:\n",
    "            frequency_dict[word] = 1\n",
    "    return frequency_dict\n",
    "\n",
    "# Example usage\n",
    "input_words = [\"apple\", \"banana\", \"apple\", \"orange\", \"banana\", \"banana\"]\n",
    "result = word_frequencies(input_words)\n",
    "print(result)  # Output: {'apple': 2, 'banana': 3, 'orange': 1}\n"
   ]
  },
  {
   "cell_type": "markdown",
   "metadata": {},
   "source": [
    "How It Works:\n",
    "The word_frequencies function initializes an empty dictionary.\n",
    "It iterates through each word in the input list:\n",
    "If the word is already a key in the dictionary, it increments its value.\n",
    "If the word is not in the dictionary, it adds it with a value of 1.\n",
    "Finally, it returns the dictionary containing the word frequencies.\n",
    "You can test this function with different lists of words!"
   ]
  },
  {
   "cell_type": "markdown",
   "metadata": {},
   "source": [
    "Q32.Write a code that takes two dictionaries as input and merges them into a single dictionary. If there are common keys, the values should be added together.\n",
    "Ans:You can merge two dictionaries by iterating through the keys and summing the values for common keys. Here's how you can implement this:"
   ]
  },
  {
   "cell_type": "code",
   "execution_count": null,
   "metadata": {},
   "outputs": [],
   "source": [
    "def merge_dictionaries(dict1, dict2):\n",
    "    merged_dict = dict1.copy()  # Start with a copy of the first dictionary\n",
    "\n",
    "    for key, value in dict2.items():\n",
    "        if key in merged_dict:\n",
    "            merged_dict[key] += value  # Add the values for common keys\n",
    "        else:\n",
    "            merged_dict[key] = value  # Add new key-value pairs\n",
    "\n",
    "    return merged_dict\n",
    "\n",
    "# Example usage\n",
    "dict1 = {'a': 1, 'b': 2, 'c': 3}\n",
    "dict2 = {'b': 3, 'c': 1, 'd': 4}\n",
    "result = merge_dictionaries(dict1, dict2)\n",
    "print(result)  # Output: {'a': 1, 'b': 5, 'c': 4, 'd': 4}\n"
   ]
  },
  {
   "cell_type": "markdown",
   "metadata": {},
   "source": [
    "How It Works:\n",
    "The merge_dictionaries function starts by making a copy of the first dictionary.\n",
    "It then iterates over the second dictionary's items.\n",
    "For each key:\n",
    "If the key exists in the merged dictionary, it adds the value from the second dictionary to the existing value.\n",
    "If the key does not exist, it adds the key-value pair from the second dictionary.\n",
    "Finally, it returns the merged dictionary.\n",
    "You can test this function with different dictionaries!"
   ]
  },
  {
   "cell_type": "markdown",
   "metadata": {},
   "source": [
    "Q33. Write a code to access a value in a nested dictionary. The function should take the dictionary and a list of keys as input, and return the corresponding value. If any of the keys do not exist in the dictionary, the function should return None.\n",
    "Ans: You can create a function that takes a nested dictionary and a list of keys to access the corresponding value. If any of the keys do not exist, the function will return None. Here's how you can implement this:"
   ]
  },
  {
   "cell_type": "code",
   "execution_count": null,
   "metadata": {},
   "outputs": [],
   "source": [
    "def access_nested_dict(nested_dict, keys):\n",
    "    current = nested_dict\n",
    "    for key in keys:\n",
    "        if key in current:\n",
    "            current = current[key]\n",
    "        else:\n",
    "            return None  # Return None if any key does not exist\n",
    "    return current  # Return the final value if all keys exist\n",
    "\n",
    "# Example usage\n",
    "nested_dict = {\n",
    "    'a': {\n",
    "        'b': {\n",
    "            'c': 42\n",
    "        }\n",
    "    },\n",
    "    'x': {\n",
    "        'y': 100\n",
    "    }\n",
    "}\n",
    "\n",
    "keys_to_access = ['a', 'b', 'c']\n",
    "result = access_nested_dict(nested_dict, keys_to_access)\n",
    "print(result)  # Output: 42\n",
    "\n",
    "keys_to_access_invalid = ['a', 'x', 'c']\n",
    "result_invalid = access_nested_dict(nested_dict, keys_to_access_invalid)\n",
    "print(result_invalid)  # Output: None\n"
   ]
  },
  {
   "cell_type": "markdown",
   "metadata": {},
   "source": [
    "How It Works:\n",
    "The access_nested_dict function starts with the nested dictionary and iterates through the list of keys.\n",
    "For each key, it checks if the key exists in the current level of the dictionary:\n",
    "If the key exists, it updates the current level to the corresponding value.\n",
    "If the key does not exist, it returns None.\n",
    "If all keys are found, it returns the final value after traversing all the keys.\n",
    "You can test this function with different nested dictionaries and key lists!"
   ]
  },
  {
   "cell_type": "markdown",
   "metadata": {},
   "source": [
    "Q34.Write a code that takes a dictionary as input and returns a sorted version of it based on the values. You can choose whether to sort in ascending or descending order.\n",
    "Ans:You can sort a dictionary based on its values by using the sorted() function along with a dictionary comprehension. Here’s how you can implement it, allowing the user to choose the sorting order:"
   ]
  },
  {
   "cell_type": "code",
   "execution_count": null,
   "metadata": {},
   "outputs": [],
   "source": [
    "def sort_dict_by_value(input_dict, ascending=True):\n",
    "    # Sort the dictionary by values\n",
    "    sorted_dict = dict(sorted(input_dict.items(), key=lambda item: item[1], reverse=not ascending))\n",
    "    return sorted_dict\n",
    "\n",
    "# Example usage\n",
    "my_dict = {'apple': 3, 'banana': 1, 'orange': 2}\n",
    "\n",
    "# Sort in ascending order\n",
    "sorted_asc = sort_dict_by_value(my_dict, ascending=True)\n",
    "print(\"Sorted in ascending order:\", sorted_asc)  # Output: {'banana': 1, 'orange': 2, 'apple': 3}\n",
    "\n",
    "# Sort in descending order\n",
    "sorted_desc = sort_dict_by_value(my_dict, ascending=False)\n",
    "print(\"Sorted in descending order:\", sorted_desc)  # Output: {'apple': 3, 'orange': 2, 'banana': 1}\n"
   ]
  },
  {
   "cell_type": "markdown",
   "metadata": {},
   "source": [
    "How It Works:\n",
    "The sort_dict_by_value function takes a dictionary and a boolean ascending flag as input.\n",
    "It uses the sorted() function to sort the dictionary items by values. The key parameter is set to sort based on the second item of each key-value pair (i.e., the value).\n",
    "The reverse parameter is set to not ascending, which allows sorting in either ascending or descending order based on the flag.\n",
    "Finally, it returns the sorted dictionary as a new dictionary.\n",
    "You can test this function with different dictionaries and sorting preferences!"
   ]
  },
  {
   "cell_type": "markdown",
   "metadata": {},
   "source": [
    "Q35.Write a code that inverts a dictionary, swapping keys and values. Ensure that the inverted dictionary correctly handles cases where multiple keys have the same value by storing the keys as a list in the inverted dictionary.\n",
    "Ans:You can invert a dictionary by swapping keys and values while ensuring that if multiple keys have the same value, the keys are stored as a list. Here’s how you can implement this:"
   ]
  },
  {
   "cell_type": "code",
   "execution_count": null,
   "metadata": {},
   "outputs": [],
   "source": [
    "def invert_dictionary(input_dict):\n",
    "    inverted_dict = {}\n",
    "    \n",
    "    for key, value in input_dict.items():\n",
    "        # If the value is already a key in the inverted dictionary, append the key to the list\n",
    "        if value in inverted_dict:\n",
    "            inverted_dict[value].append(key)\n",
    "        else:\n",
    "            inverted_dict[value] = [key]  # Create a new list with the key\n",
    "\n",
    "    return inverted_dict\n",
    "\n",
    "# Example usage\n",
    "my_dict = {'a': 1, 'b': 2, 'c': 1, 'd': 3}\n",
    "inverted = invert_dictionary(my_dict)\n",
    "print(inverted)  # Output: {1: ['a', 'c'], 2: ['b'], 3: ['d']}\n"
   ]
  },
  {
   "cell_type": "markdown",
   "metadata": {},
   "source": [
    "How It Works:\n",
    "The invert_dictionary function initializes an empty dictionary called inverted_dict.\n",
    "It iterates over each key-value pair in the input dictionary:\n",
    "If the value is already a key in the inverted_dict, it appends the current key to the list of keys associated with that value.\n",
    "If the value is not present, it creates a new entry with the value as the key and the current key as the first element in a list.\n",
    "Finally, it returns the inverted dictionary.\n",
    "You can test this function with different dictionaries to see how it handles key-value inversions!"
   ]
  }
 ],
 "metadata": {
  "language_info": {
   "name": "python"
  }
 },
 "nbformat": 4,
 "nbformat_minor": 2
}
